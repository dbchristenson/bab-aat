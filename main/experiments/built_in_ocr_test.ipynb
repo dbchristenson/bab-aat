{
 "cells": [
  {
   "cell_type": "code",
   "execution_count": 1,
   "metadata": {},
   "outputs": [],
   "source": [
    "import matplotlib.pyplot as plt\n",
    "import os\n",
    "import PIL as pil\n",
    "import pypdfium2 as pdfium\n",
    "import seaborn as sns\n",
    "\n",
    "\n",
    "BASE_DIR = \"/Users/dbchristenson/Desktop/python/bab-aat/bab-aat\"\n",
    "pdf_data = os.path.join(BASE_DIR, \"data\", \"olombendo_src/original_no_ocr/P&ID\")\n",
    "already_ocr_pdfs = os.path.join(BASE_DIR, \"data\", \"olombendo_raw_pdf\")"
   ]
  },
  {
   "cell_type": "code",
   "execution_count": 16,
   "metadata": {},
   "outputs": [],
   "source": [
    "pdf = pdfium.PdfDocument(\n",
    "    os.path.join(pdf_data, \"Process/21014-BAE-73100-PR-DW-1139B_03.pdf\")\n",
    ")\n",
    "\n",
    "already_ocr_pdf = pdfium.PdfDocument(\n",
    "    os.path.join(already_ocr_pdfs, \"21021-ABB-70060-FS-DW-1020_2_F0.pdf\")\n",
    ")\n"
   ]
  },
  {
   "cell_type": "code",
   "execution_count": 17,
   "metadata": {},
   "outputs": [],
   "source": [
    "page = pdf[0]\n",
    "already_ocr_page = already_ocr_pdf[0]\n",
    "\n",
    "textpage = page.get_textpage()\n",
    "already_ocr_textpage = already_ocr_page.get_textpage()"
   ]
  },
  {
   "cell_type": "code",
   "execution_count": 19,
   "metadata": {},
   "outputs": [
    {
     "name": "stdout",
     "output_type": "stream",
     "text": [
      "0\n",
      "349\n"
     ]
    }
   ],
   "source": [
    "print(textpage.count_chars())\n",
    "print(already_ocr_textpage.count_chars())"
   ]
  }
 ],
 "metadata": {
  "kernelspec": {
   "display_name": "asset-tagging",
   "language": "python",
   "name": "python3"
  },
  "language_info": {
   "codemirror_mode": {
    "name": "ipython",
    "version": 3
   },
   "file_extension": ".py",
   "mimetype": "text/x-python",
   "name": "python",
   "nbconvert_exporter": "python",
   "pygments_lexer": "ipython3",
   "version": "3.13.2"
  }
 },
 "nbformat": 4,
 "nbformat_minor": 2
}
