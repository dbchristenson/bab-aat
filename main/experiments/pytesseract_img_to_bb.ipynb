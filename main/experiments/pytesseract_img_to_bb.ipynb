{
 "cells": [
  {
   "cell_type": "code",
   "execution_count": 1,
   "metadata": {},
   "outputs": [],
   "source": [
    "from PIL import Image\n",
    "import pytesseract as pyt\n",
    "import cv2"
   ]
  },
  {
   "cell_type": "code",
   "execution_count": 2,
   "metadata": {},
   "outputs": [],
   "source": [
    "img_path = \"pdf_to_image_example\"\n",
    "img = Image.open(f\"{img_path}.png\")"
   ]
  },
  {
   "cell_type": "code",
   "execution_count": 2,
   "metadata": {},
   "outputs": [
    {
     "ename": "NameError",
     "evalue": "name 'img' is not defined",
     "output_type": "error",
     "traceback": [
      "\u001b[31m---------------------------------------------------------------------------\u001b[39m",
      "\u001b[31mNameError\u001b[39m                                 Traceback (most recent call last)",
      "\u001b[36mCell\u001b[39m\u001b[36m \u001b[39m\u001b[32mIn[2]\u001b[39m\u001b[32m, line 1\u001b[39m\n\u001b[32m----> \u001b[39m\u001b[32m1\u001b[39m \u001b[38;5;28mprint\u001b[39m(pyt.image_to_string(\u001b[43mimg\u001b[49m))\n",
      "\u001b[31mNameError\u001b[39m: name 'img' is not defined"
     ]
    }
   ],
   "source": [
    "print(pyt.image_to_string(img))"
   ]
  },
  {
   "cell_type": "markdown",
   "metadata": {},
   "source": [
    "## Conclusion\n",
    "\n",
    "Built in text OCR from tesseract engine is not accurate enough and difficult to parse. This alone is not enough to complete the project."
   ]
  },
  {
   "cell_type": "markdown",
   "metadata": {},
   "source": [
    "# Second Test\n",
    "\n",
    "If we use bounding boxes only, can we get good enough bounding boxes to extract the text more accurately?"
   ]
  },
  {
   "cell_type": "code",
   "execution_count": 2,
   "metadata": {},
   "outputs": [
    {
     "data": {
      "text/plain": [
       "True"
      ]
     },
     "execution_count": 2,
     "metadata": {},
     "output_type": "execute_result"
    }
   ],
   "source": [
    "# Load the PNG image using OpenCV\n",
    "image_path = \"C:\\\\Users\\\\User\\\\src\\\\bab-aat\\\\marine-process-imgs\\\\21006-BAE-70000-PR-DW-0002_03_0.png\"\n",
    "image = cv2.imread(image_path)\n",
    "\n",
    "# Run pytesseract to get bounding box data\n",
    "data = pyt.image_to_data(image, output_type=pyt.Output.DICT)\n",
    "\n",
    "# Loop over each detected word and draw its bounding box\n",
    "n_boxes = len(data[\"level\"])\n",
    "for i in range(n_boxes):\n",
    "    if data[\"text\"][i].strip():  # Only draw boxes with detected text\n",
    "        (x, y, w, h) = (\n",
    "            data[\"left\"][i],\n",
    "            data[\"top\"][i],\n",
    "            data[\"width\"][i],\n",
    "            data[\"height\"][i],\n",
    "        )\n",
    "        cv2.rectangle(\n",
    "            image, (x, y), (x + w, y + h), (0, 255, 0), 2\n",
    "        )  # Green box\n",
    "        cv2.putText(\n",
    "            image,\n",
    "            data[\"text\"][i],\n",
    "            (x, y - 10),\n",
    "            cv2.FONT_HERSHEY_SIMPLEX,\n",
    "            0.5,\n",
    "            (0, 0, 255),\n",
    "            1,\n",
    "        )  # Optional: Add text\n",
    "\n",
    "# Display the result\n",
    "cv2.imshow(\"Text Detection\", image)\n",
    "cv2.waitKey(0)  # Press any key to close\n",
    "cv2.destroyAllWindows()\n",
    "\n",
    "# Optionally, save the output\n",
    "cv2.imwrite(\"output_with_boxes.png\", image)"
   ]
  },
  {
   "cell_type": "markdown",
   "metadata": {},
   "source": [
    "# Conclusion\n",
    "\n",
    "Some of the bounding boxes are great and capture accurately the tag, but the algorithm is completely missing some tags entirely, even ones that look like they should be easy to identify while hitting some of the more difficult and small tags. I am unsure where this discrepancy is coming from.\n",
    "\n",
    "![](output_with_boxes.png)"
   ]
  }
 ],
 "metadata": {
  "kernelspec": {
   "display_name": ".venv",
   "language": "python",
   "name": "python3"
  },
  "language_info": {
   "codemirror_mode": {
    "name": "ipython",
    "version": 3
   },
   "file_extension": ".py",
   "mimetype": "text/x-python",
   "name": "python",
   "nbconvert_exporter": "python",
   "pygments_lexer": "ipython3",
   "version": "3.13.2"
  }
 },
 "nbformat": 4,
 "nbformat_minor": 2
}
