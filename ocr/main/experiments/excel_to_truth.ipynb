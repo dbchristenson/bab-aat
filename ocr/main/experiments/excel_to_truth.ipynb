{
 "cells": [
  {
   "cell_type": "code",
   "execution_count": null,
   "metadata": {},
   "outputs": [],
   "source": [
    "import pandas as pd\n",
    "import os"
   ]
  },
  {
   "cell_type": "code",
   "execution_count": 33,
   "metadata": {},
   "outputs": [],
   "source": [
    "os.chdir(os.path.expanduser(\"C:\\\\Users\\\\User\\\\src\\\\bab-aat\"))"
   ]
  },
  {
   "cell_type": "code",
   "execution_count": 4,
   "metadata": {},
   "outputs": [],
   "source": [
    "df = pd.read_excel(\"C:\\\\Users\\\\User\\\\Downloads\\\\OVERALL BAE P&ID_250213.xlsx\")"
   ]
  },
  {
   "cell_type": "code",
   "execution_count": 5,
   "metadata": {},
   "outputs": [
    {
     "data": {
      "application/vnd.microsoft.datawrangler.viewer.v0+json": {
       "columns": [
        {
         "name": "index",
         "rawType": "int64",
         "type": "integer"
        },
        {
         "name": "Document Number",
         "rawType": "object",
         "type": "string"
        },
        {
         "name": "Document Title",
         "rawType": "object",
         "type": "string"
        },
        {
         "name": "Revision No ",
         "rawType": "object",
         "type": "string"
        },
        {
         "name": "Progress Stage",
         "rawType": "object",
         "type": "string"
        },
        {
         "name": "Tag Number ",
         "rawType": "object",
         "type": "unknown"
        },
        {
         "name": "Description",
         "rawType": "object",
         "type": "unknown"
        },
        {
         "name": "Class Reference",
         "rawType": "object",
         "type": "unknown"
        },
        {
         "name": "Discipline",
         "rawType": "object",
         "type": "string"
        },
        {
         "name": "Drawing Type",
         "rawType": "object",
         "type": "string"
        },
        {
         "name": "System Code",
         "rawType": "object",
         "type": "string"
        },
        {
         "name": "Originating Company",
         "rawType": "object",
         "type": "string"
        },
        {
         "name": "File Name",
         "rawType": "object",
         "type": "string"
        }
       ],
       "conversionMethod": "pd.DataFrame",
       "ref": "a7650560-dffd-4093-bac2-5e55c00b440d",
       "rows": [
        [
         "0",
         "21020-BAE-50000-PR-DW-7211",
         "P&ID MARINE TOPSIDE INTERFACE",
         "Z4",
         "5 - ASB - AS-BUILT",
         "21-BA-0850",
         "VV, BALL, CRUDE OIL FROM TK TO CRUDE TREATMENT UNIT, ISOL",
         "VALVE MANUAL BALL",
         "PROCESS",
         "PIPING & INSTRUMENTATION DIAGRAM (P&ID)",
         "50000 - AUXILIARY SYSTEMS, GENERAL",
         "BAE - Bumi Armada Engineering",
         "21020-BAE-50000-PR-DW-7211_Z4.pdf"
        ],
        [
         "1",
         "21020-BAE-50000-PR-DW-7211",
         "P&ID MARINE TOPSIDE INTERFACE",
         "Z4",
         "5 - ASB - AS-BUILT",
         "21-BR-0005",
         "VV, BALL, CRUDE OIL FROM TK TO CRUDE TREATMENT UNIT, ISOL",
         "VALVE MANUAL BALL",
         "PROCESS",
         "PIPING & INSTRUMENTATION DIAGRAM (P&ID)",
         "50000 - AUXILIARY SYSTEMS, GENERAL",
         "BAE - Bumi Armada Engineering",
         "21020-BAE-50000-PR-DW-7211_Z4.pdf"
        ],
        [
         "2",
         "21020-BAE-50000-PR-DW-7211",
         "P&ID MARINE TOPSIDE INTERFACE",
         "Z4",
         "5 - ASB - AS-BUILT",
         "21-CH-0856",
         "VV, BALL, CRUDE OIL FROM TK TO CRUDE TREATMENT UNIT, ISOL",
         "VALVE CHECK",
         "PROCESS",
         "PIPING & INSTRUMENTATION DIAGRAM (P&ID)",
         "50000 - AUXILIARY SYSTEMS, GENERAL",
         "BAE - Bumi Armada Engineering",
         "21020-BAE-50000-PR-DW-7211_Z4.pdf"
        ],
        [
         "3",
         "21020-BAE-50000-PR-DW-7212",
         "P&ID MARINE TOPSIDE INTERFACE",
         "Z4",
         "5 - ASB - AS-BUILT",
         null,
         null,
         null,
         "PROCESS",
         "PIPING & INSTRUMENTATION DIAGRAM (P&ID)",
         "50000 - AUXILIARY SYSTEMS, GENERAL",
         "BAE - Bumi Armada Engineering",
         "21020-BAE-50000-PR-DW-7212_Z4.pdf"
        ],
        [
         "4",
         "21020-BAE-50000-PR-DW-7213",
         "P&ID MAINDECK TOPSIDE INTERFACE FIRE WATER RING MAIN",
         "Z1",
         "5 - ASB - AS-BUILT",
         null,
         null,
         null,
         "PROCESS",
         "PIPING & INSTRUMENTATION DIAGRAM (P&ID)",
         "50000 - AUXILIARY SYSTEMS, GENERAL",
         "BAE - Bumi Armada Engineering",
         "21020-BAE-50000-PR-DW-7213_Z1.pdf"
        ]
       ],
       "shape": {
        "columns": 12,
        "rows": 5
       }
      },
      "text/html": [
       "<div>\n",
       "<style scoped>\n",
       "    .dataframe tbody tr th:only-of-type {\n",
       "        vertical-align: middle;\n",
       "    }\n",
       "\n",
       "    .dataframe tbody tr th {\n",
       "        vertical-align: top;\n",
       "    }\n",
       "\n",
       "    .dataframe thead th {\n",
       "        text-align: right;\n",
       "    }\n",
       "</style>\n",
       "<table border=\"1\" class=\"dataframe\">\n",
       "  <thead>\n",
       "    <tr style=\"text-align: right;\">\n",
       "      <th></th>\n",
       "      <th>Document Number</th>\n",
       "      <th>Document Title</th>\n",
       "      <th>Revision No</th>\n",
       "      <th>Progress Stage</th>\n",
       "      <th>Tag Number</th>\n",
       "      <th>Description</th>\n",
       "      <th>Class Reference</th>\n",
       "      <th>Discipline</th>\n",
       "      <th>Drawing Type</th>\n",
       "      <th>System Code</th>\n",
       "      <th>Originating Company</th>\n",
       "      <th>File Name</th>\n",
       "    </tr>\n",
       "  </thead>\n",
       "  <tbody>\n",
       "    <tr>\n",
       "      <th>0</th>\n",
       "      <td>21020-BAE-50000-PR-DW-7211</td>\n",
       "      <td>P&amp;ID MARINE TOPSIDE INTERFACE</td>\n",
       "      <td>Z4</td>\n",
       "      <td>5 - ASB - AS-BUILT</td>\n",
       "      <td>21-BA-0850</td>\n",
       "      <td>VV, BALL, CRUDE OIL FROM TK TO CRUDE TREATMENT...</td>\n",
       "      <td>VALVE MANUAL BALL</td>\n",
       "      <td>PROCESS</td>\n",
       "      <td>PIPING &amp; INSTRUMENTATION DIAGRAM (P&amp;ID)</td>\n",
       "      <td>50000 - AUXILIARY SYSTEMS, GENERAL</td>\n",
       "      <td>BAE - Bumi Armada Engineering</td>\n",
       "      <td>21020-BAE-50000-PR-DW-7211_Z4.pdf</td>\n",
       "    </tr>\n",
       "    <tr>\n",
       "      <th>1</th>\n",
       "      <td>21020-BAE-50000-PR-DW-7211</td>\n",
       "      <td>P&amp;ID MARINE TOPSIDE INTERFACE</td>\n",
       "      <td>Z4</td>\n",
       "      <td>5 - ASB - AS-BUILT</td>\n",
       "      <td>21-BR-0005</td>\n",
       "      <td>VV, BALL, CRUDE OIL FROM TK TO CRUDE TREATMENT...</td>\n",
       "      <td>VALVE MANUAL BALL</td>\n",
       "      <td>PROCESS</td>\n",
       "      <td>PIPING &amp; INSTRUMENTATION DIAGRAM (P&amp;ID)</td>\n",
       "      <td>50000 - AUXILIARY SYSTEMS, GENERAL</td>\n",
       "      <td>BAE - Bumi Armada Engineering</td>\n",
       "      <td>21020-BAE-50000-PR-DW-7211_Z4.pdf</td>\n",
       "    </tr>\n",
       "    <tr>\n",
       "      <th>2</th>\n",
       "      <td>21020-BAE-50000-PR-DW-7211</td>\n",
       "      <td>P&amp;ID MARINE TOPSIDE INTERFACE</td>\n",
       "      <td>Z4</td>\n",
       "      <td>5 - ASB - AS-BUILT</td>\n",
       "      <td>21-CH-0856</td>\n",
       "      <td>VV, BALL, CRUDE OIL FROM TK TO CRUDE TREATMENT...</td>\n",
       "      <td>VALVE CHECK</td>\n",
       "      <td>PROCESS</td>\n",
       "      <td>PIPING &amp; INSTRUMENTATION DIAGRAM (P&amp;ID)</td>\n",
       "      <td>50000 - AUXILIARY SYSTEMS, GENERAL</td>\n",
       "      <td>BAE - Bumi Armada Engineering</td>\n",
       "      <td>21020-BAE-50000-PR-DW-7211_Z4.pdf</td>\n",
       "    </tr>\n",
       "    <tr>\n",
       "      <th>3</th>\n",
       "      <td>21020-BAE-50000-PR-DW-7212</td>\n",
       "      <td>P&amp;ID MARINE TOPSIDE INTERFACE</td>\n",
       "      <td>Z4</td>\n",
       "      <td>5 - ASB - AS-BUILT</td>\n",
       "      <td>NaN</td>\n",
       "      <td>NaN</td>\n",
       "      <td>NaN</td>\n",
       "      <td>PROCESS</td>\n",
       "      <td>PIPING &amp; INSTRUMENTATION DIAGRAM (P&amp;ID)</td>\n",
       "      <td>50000 - AUXILIARY SYSTEMS, GENERAL</td>\n",
       "      <td>BAE - Bumi Armada Engineering</td>\n",
       "      <td>21020-BAE-50000-PR-DW-7212_Z4.pdf</td>\n",
       "    </tr>\n",
       "    <tr>\n",
       "      <th>4</th>\n",
       "      <td>21020-BAE-50000-PR-DW-7213</td>\n",
       "      <td>P&amp;ID MAINDECK TOPSIDE INTERFACE FIRE WATER RIN...</td>\n",
       "      <td>Z1</td>\n",
       "      <td>5 - ASB - AS-BUILT</td>\n",
       "      <td>NaN</td>\n",
       "      <td>NaN</td>\n",
       "      <td>NaN</td>\n",
       "      <td>PROCESS</td>\n",
       "      <td>PIPING &amp; INSTRUMENTATION DIAGRAM (P&amp;ID)</td>\n",
       "      <td>50000 - AUXILIARY SYSTEMS, GENERAL</td>\n",
       "      <td>BAE - Bumi Armada Engineering</td>\n",
       "      <td>21020-BAE-50000-PR-DW-7213_Z1.pdf</td>\n",
       "    </tr>\n",
       "  </tbody>\n",
       "</table>\n",
       "</div>"
      ],
      "text/plain": [
       "              Document Number  \\\n",
       "0  21020-BAE-50000-PR-DW-7211   \n",
       "1  21020-BAE-50000-PR-DW-7211   \n",
       "2  21020-BAE-50000-PR-DW-7211   \n",
       "3  21020-BAE-50000-PR-DW-7212   \n",
       "4  21020-BAE-50000-PR-DW-7213   \n",
       "\n",
       "                                      Document Title Revision No   \\\n",
       "0                      P&ID MARINE TOPSIDE INTERFACE           Z4   \n",
       "1                      P&ID MARINE TOPSIDE INTERFACE           Z4   \n",
       "2                      P&ID MARINE TOPSIDE INTERFACE           Z4   \n",
       "3                      P&ID MARINE TOPSIDE INTERFACE           Z4   \n",
       "4  P&ID MAINDECK TOPSIDE INTERFACE FIRE WATER RIN...           Z1   \n",
       "\n",
       "       Progress Stage Tag Number   \\\n",
       "0  5 - ASB - AS-BUILT  21-BA-0850   \n",
       "1  5 - ASB - AS-BUILT  21-BR-0005   \n",
       "2  5 - ASB - AS-BUILT  21-CH-0856   \n",
       "3  5 - ASB - AS-BUILT         NaN   \n",
       "4  5 - ASB - AS-BUILT         NaN   \n",
       "\n",
       "                                         Description    Class Reference  \\\n",
       "0  VV, BALL, CRUDE OIL FROM TK TO CRUDE TREATMENT...  VALVE MANUAL BALL   \n",
       "1  VV, BALL, CRUDE OIL FROM TK TO CRUDE TREATMENT...  VALVE MANUAL BALL   \n",
       "2  VV, BALL, CRUDE OIL FROM TK TO CRUDE TREATMENT...        VALVE CHECK   \n",
       "3                                                NaN                NaN   \n",
       "4                                                NaN                NaN   \n",
       "\n",
       "  Discipline                             Drawing Type  \\\n",
       "0    PROCESS  PIPING & INSTRUMENTATION DIAGRAM (P&ID)   \n",
       "1    PROCESS  PIPING & INSTRUMENTATION DIAGRAM (P&ID)   \n",
       "2    PROCESS  PIPING & INSTRUMENTATION DIAGRAM (P&ID)   \n",
       "3    PROCESS  PIPING & INSTRUMENTATION DIAGRAM (P&ID)   \n",
       "4    PROCESS  PIPING & INSTRUMENTATION DIAGRAM (P&ID)   \n",
       "\n",
       "                          System Code            Originating Company  \\\n",
       "0  50000 - AUXILIARY SYSTEMS, GENERAL  BAE - Bumi Armada Engineering   \n",
       "1  50000 - AUXILIARY SYSTEMS, GENERAL  BAE - Bumi Armada Engineering   \n",
       "2  50000 - AUXILIARY SYSTEMS, GENERAL  BAE - Bumi Armada Engineering   \n",
       "3  50000 - AUXILIARY SYSTEMS, GENERAL  BAE - Bumi Armada Engineering   \n",
       "4  50000 - AUXILIARY SYSTEMS, GENERAL  BAE - Bumi Armada Engineering   \n",
       "\n",
       "                           File Name  \n",
       "0  21020-BAE-50000-PR-DW-7211_Z4.pdf  \n",
       "1  21020-BAE-50000-PR-DW-7211_Z4.pdf  \n",
       "2  21020-BAE-50000-PR-DW-7211_Z4.pdf  \n",
       "3  21020-BAE-50000-PR-DW-7212_Z4.pdf  \n",
       "4  21020-BAE-50000-PR-DW-7213_Z1.pdf  "
      ]
     },
     "execution_count": 5,
     "metadata": {},
     "output_type": "execute_result"
    }
   ],
   "source": [
    "df.head()"
   ]
  },
  {
   "cell_type": "code",
   "execution_count": 7,
   "metadata": {},
   "outputs": [
    {
     "data": {
      "text/plain": [
       "Index(['Document Number', 'Document Title', 'Revision No ', 'Progress Stage',\n",
       "       'Tag Number ', 'Description', 'Class Reference', 'Discipline',\n",
       "       'Drawing Type', 'System Code', 'Originating Company', 'File Name'],\n",
       "      dtype='object')"
      ]
     },
     "execution_count": 7,
     "metadata": {},
     "output_type": "execute_result"
    }
   ],
   "source": [
    "df.columns"
   ]
  },
  {
   "cell_type": "code",
   "execution_count": 8,
   "metadata": {},
   "outputs": [],
   "source": [
    "new_df = df[[\"Document Number\", \"Tag Number \"]]"
   ]
  },
  {
   "cell_type": "code",
   "execution_count": 12,
   "metadata": {},
   "outputs": [],
   "source": [
    "new_cols = [\"document_number\", \"tag_number\"]\n",
    "new_df.columns = new_cols"
   ]
  },
  {
   "cell_type": "code",
   "execution_count": 15,
   "metadata": {},
   "outputs": [
    {
     "data": {
      "text/plain": [
       "tag_number\n",
       "False    6723\n",
       "True       35\n",
       "Name: count, dtype: int64"
      ]
     },
     "execution_count": 15,
     "metadata": {},
     "output_type": "execute_result"
    }
   ],
   "source": [
    "new_df.tag_number.isna().value_counts()"
   ]
  },
  {
   "cell_type": "code",
   "execution_count": 16,
   "metadata": {},
   "outputs": [
    {
     "data": {
      "text/plain": [
       "6758"
      ]
     },
     "execution_count": 16,
     "metadata": {},
     "output_type": "execute_result"
    }
   ],
   "source": [
    "len(df)"
   ]
  },
  {
   "cell_type": "code",
   "execution_count": 42,
   "metadata": {},
   "outputs": [
    {
     "data": {
      "text/plain": [
       "252"
      ]
     },
     "execution_count": 42,
     "metadata": {},
     "output_type": "execute_result"
    }
   ],
   "source": [
    "len(new_df.document_number.unique())"
   ]
  }
 ],
 "metadata": {
  "kernelspec": {
   "display_name": ".venv",
   "language": "python",
   "name": "python3"
  },
  "language_info": {
   "codemirror_mode": {
    "name": "ipython",
    "version": 3
   },
   "file_extension": ".py",
   "mimetype": "text/x-python",
   "name": "python",
   "nbconvert_exporter": "python",
   "pygments_lexer": "ipython3",
   "version": "3.13.2"
  }
 },
 "nbformat": 4,
 "nbformat_minor": 2
}
