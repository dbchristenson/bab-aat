{
 "cells": [
  {
   "cell_type": "code",
   "execution_count": 1,
   "id": "1d63e532",
   "metadata": {},
   "outputs": [],
   "source": [
    "from paddleocr import PaddleOCR"
   ]
  },
  {
   "cell_type": "code",
   "execution_count": null,
   "id": "eda479a5",
   "metadata": {},
   "outputs": [],
   "source": [
    "OCRConfig_obj = {\n",
    "    \"scale\": 4,\n",
    "    \"paddle\": {\n",
    "        \"lang\": \"en\",\n",
    "        \"use_textline_orientation\": True,\n",
    "        \"text_det_limit_type\": \"max\",\n",
    "        \"text_det_limit_side_len\": 3200,\n",
    "        \"text_det_unclip_ratio\": 2,\n",
    "        \"text_detection_model_name\": \"PP-OCRv5_mobile_det\",\n",
    "        \"text_recognition_model_name\": \"PP-OCRv5_mobile_rec\",\n",
    "    },\n",
    "}"
   ]
  },
  {
   "cell_type": "code",
   "execution_count": 3,
   "id": "e5ace903",
   "metadata": {},
   "outputs": [
    {
     "name": "stderr",
     "output_type": "stream",
     "text": [
      "/Users/dbchristenson/Desktop/python/bab-aat/bab-aat/.venv/lib/python3.12/site-packages/paddle/utils/cpp_extension/extension_utils.py:711: UserWarning: No ccache found. Please be aware that recompiling all source files may be required. You can download and install ccache from: https://github.com/ccache/ccache/blob/master/doc/INSTALL.md\n",
      "  warnings.warn(warning_message)\n",
      "\u001b[32mCreating model: ('PP-LCNet_x1_0_doc_ori', None)\u001b[0m\n",
      "\u001b[32mUsing official model (PP-LCNet_x1_0_doc_ori), the model files will be automatically downloaded and saved in /Users/dbchristenson/.paddlex/official_models.\u001b[0m\n",
      "\u001b[32mCreating model: ('UVDoc', None)\u001b[0m\n",
      "\u001b[32mUsing official model (UVDoc), the model files will be automatically downloaded and saved in /Users/dbchristenson/.paddlex/official_models.\u001b[0m\n",
      "\u001b[32mCreating model: ('PP-LCNet_x0_25_textline_ori', None)\u001b[0m\n",
      "\u001b[32mUsing official model (PP-LCNet_x0_25_textline_ori), the model files will be automatically downloaded and saved in /Users/dbchristenson/.paddlex/official_models.\u001b[0m\n",
      "\u001b[32mCreating model: ('PP-OCRv5_mobile_det', None)\u001b[0m\n",
      "\u001b[32mUsing official model (PP-OCRv5_mobile_det), the model files will be automatically downloaded and saved in /Users/dbchristenson/.paddlex/official_models.\u001b[0m\n",
      "\u001b[32mCreating model: ('PP-OCRv5_mobile_rec', None)\u001b[0m\n",
      "\u001b[32mUsing official model (PP-OCRv5_mobile_rec), the model files will be automatically downloaded and saved in /Users/dbchristenson/.paddlex/official_models.\u001b[0m\n"
     ]
    }
   ],
   "source": [
    "ocrconfig = OCRConfig_obj[\"paddle\"]\n",
    "ocr = PaddleOCR(**ocrconfig)"
   ]
  },
  {
   "cell_type": "code",
   "execution_count": 4,
   "id": "0ceb8efa",
   "metadata": {},
   "outputs": [],
   "source": [
    "test_doc = \"/Users/dbchristenson/Desktop/python/bab-aat/bab-aat/resources/media/documents/extracted/olo_test/olo_test/PIPING/21021-BAE-70020-PP-DW-0001_B0.pdf\"\n",
    "res = ocr.predict(test_doc)"
   ]
  },
  {
   "cell_type": "code",
   "execution_count": 5,
   "id": "5e859df5",
   "metadata": {},
   "outputs": [
    {
     "data": {
      "text/plain": [
       "dict_keys(['input_path', 'page_index', 'doc_preprocessor_res', 'dt_polys', 'model_settings', 'text_det_params', 'text_type', 'text_rec_score_thresh', 'rec_texts', 'rec_scores', 'rec_polys', 'textline_orientation_angles', 'rec_boxes'])"
      ]
     },
     "execution_count": 5,
     "metadata": {},
     "output_type": "execute_result"
    }
   ],
   "source": [
    "res[0].keys()"
   ]
  },
  {
   "cell_type": "code",
   "execution_count": 6,
   "id": "7d7ab60a",
   "metadata": {},
   "outputs": [],
   "source": [
    "with open(\"results2.txt\", \"w\") as f:\n",
    "    for rec_text in res[0][\"rec_texts\"]:\n",
    "        f.write(f\"{rec_text}\\n\")"
   ]
  },
  {
   "cell_type": "code",
   "execution_count": null,
   "id": "d48745b5",
   "metadata": {},
   "outputs": [],
   "source": []
  }
 ],
 "metadata": {
  "kernelspec": {
   "display_name": ".venv",
   "language": "python",
   "name": "python3"
  },
  "language_info": {
   "codemirror_mode": {
    "name": "ipython",
    "version": 3
   },
   "file_extension": ".py",
   "mimetype": "text/x-python",
   "name": "python",
   "nbconvert_exporter": "python",
   "pygments_lexer": "ipython3",
   "version": "3.13.3"
  }
 },
 "nbformat": 4,
 "nbformat_minor": 5
}
