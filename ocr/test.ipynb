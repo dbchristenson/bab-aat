{
 "cells": [
  {
   "cell_type": "code",
   "execution_count": 1,
   "id": "1d63e532",
   "metadata": {},
   "outputs": [
    {
     "name": "stdout",
     "output_type": "stream",
     "text": [
      "Connecting to https://paddle-model-ecology.bj.bcebos.com/paddlex/PaddleX3.0/fonts/PingFang-SC-Regular.ttf ...\n",
      "Downloading PingFang-SC-Regular.ttf ...\n",
      "[==================================================] 100.00%\n",
      "Connecting to https://paddle-model-ecology.bj.bcebos.com/paddlex/PaddleX3.0/fonts/simfang.ttf ...\n",
      "Downloading simfang.ttf ...\n",
      "[==================================================] 100.00%\n"
     ]
    },
    {
     "name": "stderr",
     "output_type": "stream",
     "text": [
      "/Users/dbchristenson/Desktop/python/bab-aat/bab-aat/.venv/lib/python3.12/site-packages/paddlex/inference/models/formula_recognition/processors.py:341: SyntaxWarning: invalid escape sequence '\\W'\n",
      "  noletter = \"[\\W_^\\d]\"\n",
      "/Users/dbchristenson/Desktop/python/bab-aat/bab-aat/.venv/lib/python3.12/site-packages/paddlex/inference/models/formula_recognition/processors.py:844: SyntaxWarning: invalid escape sequence '\\W'\n",
      "  noletter = \"[\\W_^\\d]\"\n"
     ]
    }
   ],
   "source": [
    "from paddleocr import PaddleOCR"
   ]
  },
  {
   "cell_type": "code",
   "execution_count": 2,
   "id": "f72567ce",
   "metadata": {},
   "outputs": [
    {
     "name": "stderr",
     "output_type": "stream",
     "text": [
      "/Users/dbchristenson/Desktop/python/bab-aat/bab-aat/.venv/lib/python3.12/site-packages/paddle/utils/cpp_extension/extension_utils.py:711: UserWarning: No ccache found. Please be aware that recompiling all source files may be required. You can download and install ccache from: https://github.com/ccache/ccache/blob/master/doc/INSTALL.md\n",
      "  warnings.warn(warning_message)\n",
      "\u001b[32mCreating model: ('PP-OCRv5_mobile_det', None)\u001b[0m\n",
      "\u001b[32mUsing official model (PP-OCRv5_mobile_det), the model files will be automatically downloaded and saved in /Users/dbchristenson/.paddlex/official_models.\u001b[0m\n"
     ]
    },
    {
     "name": "stdout",
     "output_type": "stream",
     "text": [
      "Connecting to https://paddle-model-ecology.bj.bcebos.com/paddlex/official_inference_model/paddle3.0.0/PP-OCRv5_mobile_det_infer.tar ...\n",
      "Downloading PP-OCRv5_mobile_det_infer.tar ...\n",
      "[==================================================] 100.00%\n",
      "Extracting PP-OCRv5_mobile_det_infer.tar\n",
      "[==================================================] 100.00%\n"
     ]
    },
    {
     "name": "stderr",
     "output_type": "stream",
     "text": [
      "\u001b[32mCreating model: ('PP-OCRv5_mobile_rec', None)\u001b[0m\n",
      "\u001b[32mUsing official model (PP-OCRv5_mobile_rec), the model files will be automatically downloaded and saved in /Users/dbchristenson/.paddlex/official_models.\u001b[0m\n"
     ]
    },
    {
     "name": "stdout",
     "output_type": "stream",
     "text": [
      "Connecting to https://paddle-model-ecology.bj.bcebos.com/paddlex/official_inference_model/paddle3.0.0/PP-OCRv5_mobile_rec_infer.tar ...\n",
      "Downloading PP-OCRv5_mobile_rec_infer.tar ...\n",
      "[==================================================] 100.00%\n",
      "Extracting PP-OCRv5_mobile_rec_infer.tar\n",
      "[==================================================] 100.00%\n"
     ]
    }
   ],
   "source": [
    "ocr = PaddleOCR(\n",
    "    use_doc_orientation_classify=False,\n",
    "    use_doc_unwarping=False,\n",
    "    use_textline_orientation=False,\n",
    "    text_detection_model_name=\"PP-OCRv5_mobile_det\",\n",
    "    text_recognition_model_name=\"PP-OCRv5_mobile_rec\",\n",
    ")"
   ]
  }
 ],
 "metadata": {
  "kernelspec": {
   "display_name": ".venv",
   "language": "python",
   "name": "python3"
  },
  "language_info": {
   "codemirror_mode": {
    "name": "ipython",
    "version": 3
   },
   "file_extension": ".py",
   "mimetype": "text/x-python",
   "name": "python",
   "nbconvert_exporter": "python",
   "pygments_lexer": "ipython3",
   "version": "3.13.3"
  }
 },
 "nbformat": 4,
 "nbformat_minor": 5
}
