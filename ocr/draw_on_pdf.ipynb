{
 "cells": [
  {
   "cell_type": "code",
   "execution_count": 1,
   "id": "f8b56173",
   "metadata": {},
   "outputs": [
    {
     "ename": "ModuleNotFoundError",
     "evalue": "No module named 'pymupdf'",
     "output_type": "error",
     "traceback": [
      "\u001b[31m---------------------------------------------------------------------------\u001b[39m",
      "\u001b[31mModuleNotFoundError\u001b[39m                       Traceback (most recent call last)",
      "\u001b[36mCell\u001b[39m\u001b[36m \u001b[39m\u001b[32mIn[1]\u001b[39m\u001b[32m, line 2\u001b[39m\n\u001b[32m      1\u001b[39m \u001b[38;5;28;01mimport\u001b[39;00m\u001b[38;5;250m \u001b[39m\u001b[34;01mpypdfium2\u001b[39;00m\u001b[38;5;250m \u001b[39m\u001b[38;5;28;01mas\u001b[39;00m\u001b[38;5;250m \u001b[39m\u001b[34;01mpdfium\u001b[39;00m\n\u001b[32m----> \u001b[39m\u001b[32m2\u001b[39m \u001b[38;5;28;01mimport\u001b[39;00m\u001b[38;5;250m \u001b[39m\u001b[34;01mpymupdf\u001b[39;00m\n\u001b[32m      3\u001b[39m \u001b[38;5;28;01mimport\u001b[39;00m\u001b[38;5;250m \u001b[39m\u001b[34;01mos\u001b[39;00m\n",
      "\u001b[31mModuleNotFoundError\u001b[39m: No module named 'pymupdf'"
     ]
    }
   ],
   "source": [
    "import pypdfium2 as pdfium\n",
    "import pymupdf\n",
    "import os"
   ]
  },
  {
   "cell_type": "code",
   "execution_count": 11,
   "id": "503ae82f",
   "metadata": {},
   "outputs": [],
   "source": [
    "piping_dir = \"../../../../olo_test/PIPING\"\n",
    "document_1 = \"21021-BAE-70033-PP-DW-0003_B0.pdf\"\n",
    "test_pdf = os.path.join(piping_dir, document_1)\n",
    "pdf = pdfium.PdfDocument(test_pdf)"
   ]
  },
  {
   "cell_type": "code",
   "execution_count": 16,
   "id": "d2a9d100",
   "metadata": {},
   "outputs": [],
   "source": [
    "def rotate_landscape(page: pdfium.PdfPage) -> pdfium.PdfPage:\n",
    "    \"\"\"\n",
    "    This function rotates the page into landscape orientation.\n",
    "    \"\"\"\n",
    "    p_w, p_h = page.get_size()\n",
    "\n",
    "    if p_h > p_w:\n",
    "        page.set_rotation(270)\n",
    "\n",
    "    return page"
   ]
  },
  {
   "cell_type": "code",
   "execution_count": 18,
   "id": "59e54e7c",
   "metadata": {},
   "outputs": [],
   "source": [
    "page = pdf[0]\n",
    "page = rotate_landscape(page)"
   ]
  },
  {
   "cell_type": "code",
   "execution_count": null,
   "id": "ab1b295d",
   "metadata": {},
   "outputs": [],
   "source": []
  }
 ],
 "metadata": {
  "kernelspec": {
   "display_name": "asset-tagging",
   "language": "python",
   "name": "python3"
  },
  "language_info": {
   "codemirror_mode": {
    "name": "ipython",
    "version": 3
   },
   "file_extension": ".py",
   "mimetype": "text/x-python",
   "name": "python",
   "nbconvert_exporter": "python",
   "pygments_lexer": "ipython3",
   "version": "3.13.2"
  }
 },
 "nbformat": 4,
 "nbformat_minor": 5
}
